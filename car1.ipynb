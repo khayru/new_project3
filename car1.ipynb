version https://git-lfs.github.com/spec/v1
oid sha256:17dee1db71188f2b9b9ee7d898ef10c6d3ae51fbe5c4f41dd563f91c766f838b
size 196004
