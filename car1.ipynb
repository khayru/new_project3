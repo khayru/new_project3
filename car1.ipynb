version https://git-lfs.github.com/spec/v1
oid sha256:eedd18d7a700e3c80876f7626eaefddf24837812eef46678c3be51d8813d11d4
size 2185509
